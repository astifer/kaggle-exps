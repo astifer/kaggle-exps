{
 "cells": [
  {
   "cell_type": "markdown",
   "metadata": {},
   "source": [
    "# Eda\n",
    "Lets do some EDA for feature understanding"
   ]
  },
  {
   "cell_type": "code",
   "execution_count": 3,
   "metadata": {},
   "outputs": [
    {
     "data": {
      "text/html": [
       "<div>\n",
       "<style scoped>\n",
       "    .dataframe tbody tr th:only-of-type {\n",
       "        vertical-align: middle;\n",
       "    }\n",
       "\n",
       "    .dataframe tbody tr th {\n",
       "        vertical-align: top;\n",
       "    }\n",
       "\n",
       "    .dataframe thead th {\n",
       "        text-align: right;\n",
       "    }\n",
       "</style>\n",
       "<table border=\"1\" class=\"dataframe\">\n",
       "  <thead>\n",
       "    <tr style=\"text-align: right;\">\n",
       "      <th></th>\n",
       "      <th>id</th>\n",
       "      <th>person_age</th>\n",
       "      <th>person_income</th>\n",
       "      <th>person_home_ownership</th>\n",
       "      <th>person_emp_length</th>\n",
       "      <th>loan_intent</th>\n",
       "      <th>loan_grade</th>\n",
       "      <th>loan_amnt</th>\n",
       "      <th>loan_int_rate</th>\n",
       "      <th>loan_percent_income</th>\n",
       "      <th>cb_person_default_on_file</th>\n",
       "      <th>cb_person_cred_hist_length</th>\n",
       "      <th>loan_status</th>\n",
       "    </tr>\n",
       "  </thead>\n",
       "  <tbody>\n",
       "    <tr>\n",
       "      <th>0</th>\n",
       "      <td>42788</td>\n",
       "      <td>21</td>\n",
       "      <td>102000</td>\n",
       "      <td>MORTGAGE</td>\n",
       "      <td>5.0</td>\n",
       "      <td>EDUCATION</td>\n",
       "      <td>A</td>\n",
       "      <td>10000</td>\n",
       "      <td>7.51</td>\n",
       "      <td>0.10</td>\n",
       "      <td>N</td>\n",
       "      <td>4</td>\n",
       "      <td>0</td>\n",
       "    </tr>\n",
       "    <tr>\n",
       "      <th>1</th>\n",
       "      <td>11553</td>\n",
       "      <td>23</td>\n",
       "      <td>49000</td>\n",
       "      <td>RENT</td>\n",
       "      <td>1.0</td>\n",
       "      <td>HOMEIMPROVEMENT</td>\n",
       "      <td>D</td>\n",
       "      <td>5000</td>\n",
       "      <td>13.17</td>\n",
       "      <td>0.10</td>\n",
       "      <td>Y</td>\n",
       "      <td>4</td>\n",
       "      <td>1</td>\n",
       "    </tr>\n",
       "    <tr>\n",
       "      <th>2</th>\n",
       "      <td>27481</td>\n",
       "      <td>23</td>\n",
       "      <td>30000</td>\n",
       "      <td>RENT</td>\n",
       "      <td>1.0</td>\n",
       "      <td>MEDICAL</td>\n",
       "      <td>B</td>\n",
       "      <td>10000</td>\n",
       "      <td>11.99</td>\n",
       "      <td>0.33</td>\n",
       "      <td>N</td>\n",
       "      <td>4</td>\n",
       "      <td>1</td>\n",
       "    </tr>\n",
       "    <tr>\n",
       "      <th>3</th>\n",
       "      <td>39841</td>\n",
       "      <td>32</td>\n",
       "      <td>95000</td>\n",
       "      <td>MORTGAGE</td>\n",
       "      <td>9.0</td>\n",
       "      <td>HOMEIMPROVEMENT</td>\n",
       "      <td>C</td>\n",
       "      <td>15000</td>\n",
       "      <td>12.84</td>\n",
       "      <td>0.16</td>\n",
       "      <td>Y</td>\n",
       "      <td>5</td>\n",
       "      <td>0</td>\n",
       "    </tr>\n",
       "    <tr>\n",
       "      <th>4</th>\n",
       "      <td>55662</td>\n",
       "      <td>31</td>\n",
       "      <td>32000</td>\n",
       "      <td>MORTGAGE</td>\n",
       "      <td>3.0</td>\n",
       "      <td>HOMEIMPROVEMENT</td>\n",
       "      <td>A</td>\n",
       "      <td>1200</td>\n",
       "      <td>7.68</td>\n",
       "      <td>0.04</td>\n",
       "      <td>N</td>\n",
       "      <td>10</td>\n",
       "      <td>0</td>\n",
       "    </tr>\n",
       "  </tbody>\n",
       "</table>\n",
       "</div>"
      ],
      "text/plain": [
       "      id  person_age  person_income person_home_ownership  person_emp_length  \\\n",
       "0  42788          21         102000              MORTGAGE                5.0   \n",
       "1  11553          23          49000                  RENT                1.0   \n",
       "2  27481          23          30000                  RENT                1.0   \n",
       "3  39841          32          95000              MORTGAGE                9.0   \n",
       "4  55662          31          32000              MORTGAGE                3.0   \n",
       "\n",
       "       loan_intent loan_grade  loan_amnt  loan_int_rate  loan_percent_income  \\\n",
       "0        EDUCATION          A      10000           7.51                 0.10   \n",
       "1  HOMEIMPROVEMENT          D       5000          13.17                 0.10   \n",
       "2          MEDICAL          B      10000          11.99                 0.33   \n",
       "3  HOMEIMPROVEMENT          C      15000          12.84                 0.16   \n",
       "4  HOMEIMPROVEMENT          A       1200           7.68                 0.04   \n",
       "\n",
       "  cb_person_default_on_file  cb_person_cred_hist_length  loan_status  \n",
       "0                         N                           4            0  \n",
       "1                         Y                           4            1  \n",
       "2                         N                           4            1  \n",
       "3                         Y                           5            0  \n",
       "4                         N                          10            0  "
      ]
     },
     "execution_count": 3,
     "metadata": {},
     "output_type": "execute_result"
    }
   ],
   "source": [
    "import pandas as pd\n",
    "\n",
    "train = pd.read_csv(\"data/loan_train.csv\")\n",
    "train.head()"
   ]
  },
  {
   "cell_type": "markdown",
   "metadata": {},
   "source": [
    "Сразу заметим несколько категориальный фичей: \n",
    "- person_home_ownership (тип владения дома: ипотека, аренда, проч)\n",
    "- loan_intent (намерение, цель кредита)\n",
    "- loan_grade (оценка кредита? типо риск или чего, хз. Кажется можно перевести в число)\n",
    "- cb_person_default_on_file (пока не ясно, мб бинарная фича)"
   ]
  },
  {
   "cell_type": "code",
   "execution_count": 7,
   "metadata": {},
   "outputs": [
    {
     "data": {
      "text/plain": [
       "0    0\n",
       "1    1\n",
       "2    1\n",
       "3    0\n",
       "4    0\n",
       "Name: loan_status, dtype: int64"
      ]
     },
     "execution_count": 7,
     "metadata": {},
     "output_type": "execute_result"
    }
   ],
   "source": [
    "cat_features = [ \n",
    "    \"person_home_ownership\", \n",
    "    \"loan_intent\", \n",
    "    \"loan_grade\", \n",
    "    \"cb_person_default_on_file\"\n",
    "    ]\n",
    "num_features = [\n",
    "    \"person_age\",\n",
    "    \"person_income\",\n",
    "    \"person_emp_length\",\n",
    "    \"loan_amnt\",\n",
    "    \"loan_int_rate\",\n",
    "    \"loan_percent_income\",\n",
    "    \"cb_person_cred_hist_length\"\n",
    "]\n",
    "target = train.loc[:,\"loan_status\"]\n",
    "target[:5]"
   ]
  },
  {
   "cell_type": "code",
   "execution_count": 12,
   "metadata": {},
   "outputs": [
    {
     "name": "stdout",
     "output_type": "stream",
     "text": [
      "PERSON_HOME_OWNERSHIP\n",
      "LOAN_INTENT\n",
      "LOAN_GRADE\n",
      "CB_PERSON_DEFAULT_ON_FILE\n"
     ]
    }
   ],
   "source": [
    "for a in cat_features:\n",
    "    print(a.upper())"
   ]
  },
  {
   "cell_type": "code",
   "execution_count": 9,
   "metadata": {},
   "outputs": [
    {
     "name": "stdout",
     "output_type": "stream",
     "text": [
      "person_home_ownership\n",
      "RENT        27533\n",
      "MORTGAGE    22355\n",
      "OWN          2809\n",
      "OTHER          83\n",
      "Name: count, dtype: int64\n",
      "\n",
      "loan_intent\n",
      "EDUCATION            11053\n",
      "MEDICAL               9841\n",
      "VENTURE               9027\n",
      "PERSONAL              8993\n",
      "DEBTCONSOLIDATION     8177\n",
      "HOMEIMPROVEMENT       5689\n",
      "Name: count, dtype: int64\n",
      "\n",
      "loan_grade\n",
      "A    18901\n",
      "B    18296\n",
      "C     9973\n",
      "D     4535\n",
      "E      909\n",
      "F      137\n",
      "G       29\n",
      "Name: count, dtype: int64\n",
      "\n",
      "cb_person_default_on_file\n",
      "N    44905\n",
      "Y     7875\n",
      "Name: count, dtype: int64\n",
      "\n"
     ]
    }
   ],
   "source": [
    "for col in cat_features:\n",
    "    print(train.loc[:, col].value_counts())\n",
    "    print()"
   ]
  },
  {
   "cell_type": "code",
   "execution_count": 11,
   "metadata": {},
   "outputs": [
    {
     "data": {
      "text/plain": [
       "id                            0\n",
       "person_age                    0\n",
       "person_income                 0\n",
       "person_home_ownership         0\n",
       "person_emp_length             0\n",
       "loan_intent                   0\n",
       "loan_grade                    0\n",
       "loan_amnt                     0\n",
       "loan_int_rate                 0\n",
       "loan_percent_income           0\n",
       "cb_person_default_on_file     0\n",
       "cb_person_cred_hist_length    0\n",
       "loan_status                   0\n",
       "dtype: int64"
      ]
     },
     "execution_count": 11,
     "metadata": {},
     "output_type": "execute_result"
    }
   ],
   "source": [
    "train.isna().astype(int).sum()"
   ]
  },
  {
   "cell_type": "code",
   "execution_count": 13,
   "metadata": {},
   "outputs": [
    {
     "data": {
      "text/plain": [
       "52780"
      ]
     },
     "execution_count": 13,
     "metadata": {},
     "output_type": "execute_result"
    }
   ],
   "source": [
    "len(train)"
   ]
  }
 ],
 "metadata": {
  "kernelspec": {
   "display_name": ".venv",
   "language": "python",
   "name": "python3"
  },
  "language_info": {
   "codemirror_mode": {
    "name": "ipython",
    "version": 3
   },
   "file_extension": ".py",
   "mimetype": "text/x-python",
   "name": "python",
   "nbconvert_exporter": "python",
   "pygments_lexer": "ipython3",
   "version": "3.13.1"
  }
 },
 "nbformat": 4,
 "nbformat_minor": 2
}
